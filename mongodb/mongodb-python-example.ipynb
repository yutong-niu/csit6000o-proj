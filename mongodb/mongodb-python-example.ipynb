{
 "cells": [
  {
   "cell_type": "code",
   "execution_count": 56,
   "metadata": {},
   "outputs": [],
   "source": [
    "from pymongo import MongoClient\n",
    "\n",
    "\n",
    "client = MongoClient(host='13.215.46.117',\n",
    "                              port=27017,\n",
    "                              username='csit6000o',\n",
    "                              password='csit6000o')\n"
   ]
  },
  {
   "cell_type": "code",
   "execution_count": 57,
   "metadata": {},
   "outputs": [],
   "source": [
    "mydb = client[\"cart\"]\n",
    "mycol = mydb[\"items\"]"
   ]
  },
  {
   "cell_type": "code",
   "execution_count": 58,
   "metadata": {},
   "outputs": [
    {
     "name": "stdout",
     "output_type": "stream",
     "text": [
      "{'_id': ObjectId('62754915fc66d9dab5e3c08e'), 'pk': 'user@test', 'sk': 'product@test', 'quantity': 100.0, 'expirationTime': 10.0, 'productDetail': {'name': 'xxx', 'price': 29.0}}\n"
     ]
    }
   ],
   "source": [
    "for x in mycol.find():\n",
    "    print(x)"
   ]
  },
  {
   "cell_type": "code",
   "execution_count": 24,
   "metadata": {},
   "outputs": [
    {
     "name": "stdout",
     "output_type": "stream",
     "text": [
      "<pymongo.results.InsertOneResult object at 0x7fcdec59b960>\n"
     ]
    }
   ],
   "source": [
    "mydict= { \"name\": \"RUNOOB\", \"description\": \"desc\", \"url\": \"https://www.runoob.com\" }\n",
    "x = mycol.insert_one(mydict) \n",
    "print(x)"
   ]
  },
  {
   "cell_type": "code",
   "execution_count": 25,
   "metadata": {},
   "outputs": [
    {
     "name": "stdout",
     "output_type": "stream",
     "text": [
      "{'_id': ObjectId('6273c3c2591019ef7955e667'), 'name': 'zhangyiwen', 'description': 'xxxxx', 'by': 'yyyy', 'url': 'http://www.runoob.com', 'likes': 100.0}\n",
      "{'_id': ObjectId('6274da660d47fe3c9dae11d7'), 'name': 'RUNOOB', 'description': 'desc', 'url': 'https://www.runoob.com'}\n"
     ]
    }
   ],
   "source": [
    "for x in mycol.find():\n",
    "    print(x)"
   ]
  },
  {
   "cell_type": "code",
   "execution_count": 26,
   "metadata": {},
   "outputs": [
    {
     "data": {
      "text/plain": [
       "<pymongo.results.UpdateResult at 0x7fcdec59e550>"
      ]
     },
     "execution_count": 26,
     "metadata": {},
     "output_type": "execute_result"
    }
   ],
   "source": [
    "myquery = { \"name\": \"zhangyiwen\" }\n",
    "newvalues = { \"$set\": { \"description\": \"12345\" } }\n",
    "mycol.update_one(myquery, newvalues)"
   ]
  },
  {
   "cell_type": "code",
   "execution_count": 27,
   "metadata": {},
   "outputs": [
    {
     "name": "stdout",
     "output_type": "stream",
     "text": [
      "{'_id': ObjectId('6273c3c2591019ef7955e667'), 'name': 'zhangyiwen', 'description': '12345', 'by': 'yyyy', 'url': 'http://www.runoob.com', 'likes': 100.0}\n",
      "{'_id': ObjectId('6274da660d47fe3c9dae11d7'), 'name': 'RUNOOB', 'description': 'desc', 'url': 'https://www.runoob.com'}\n"
     ]
    }
   ],
   "source": [
    "for x in mycol.find():\n",
    "    print(x)"
   ]
  },
  {
   "cell_type": "code",
   "execution_count": 28,
   "metadata": {},
   "outputs": [
    {
     "name": "stdout",
     "output_type": "stream",
     "text": [
      "{'_id': ObjectId('6273c3c2591019ef7955e667'), 'name': 'zhangyiwen', 'description': '12345', 'by': 'yyyy', 'url': 'http://www.runoob.com', 'likes': 100.0}\n"
     ]
    }
   ],
   "source": [
    "myquery = { \"name\": \"RUNOOB\" }\n",
    "mycol.delete_one(myquery)\n",
    "for x in mycol.find():\n",
    "    print(x)"
   ]
  },
  {
   "cell_type": "code",
   "execution_count": null,
   "metadata": {},
   "outputs": [],
   "source": [
    "docker run -d --name mongo_test \\\n",
    "      -p 27017:27017 \\\n",
    "      -e MONGO_INITDB_ROOT_USERNAME=csit6000o \\\n",
    "      -e MONGO_INITDB_ROOT_PASSWORD=csit6000o \\\n",
    "      mongo"
   ]
  }
 ],
 "metadata": {
  "kernelspec": {
   "display_name": "Python 3",
   "language": "python",
   "name": "python3"
  },
  "language_info": {
   "codemirror_mode": {
    "name": "ipython",
    "version": 3
   },
   "file_extension": ".py",
   "mimetype": "text/x-python",
   "name": "python",
   "nbconvert_exporter": "python",
   "pygments_lexer": "ipython3",
   "version": "3.7.6"
  }
 },
 "nbformat": 4,
 "nbformat_minor": 4
}
